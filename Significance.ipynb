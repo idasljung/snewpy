{
 "cells": [
  {
   "cell_type": "markdown",
   "metadata": {},
   "source": [
    "### Code to find significance using Poisson distribution"
   ]
  },
  {
   "cell_type": "code",
   "execution_count": 5,
   "metadata": {},
   "outputs": [
    {
     "name": "stdout",
     "output_type": "stream",
     "text": [
      "[8.67621256e-01 1.23202218e-01 8.74735751e-03 4.14041589e-04\n",
      " 1.46984764e-05 4.17436730e-07]\n",
      "5 sigma significance\n",
      "p-value: 1.0083359480717036e-08\n",
      "Pertentage: 99.99999899166406% \n"
     ]
    },
    {
     "data": {
      "image/png": "[encoded data removed]",
      "text/plain": [
       "<Figure size 640x480 with 1 Axes>"
      ]
     },
     "metadata": {},
     "output_type": "display_data"
    }
   ],
   "source": [
    "from scipy.stats import poisson\n",
    "import numpy as np\n",
    "import matplotlib.pyplot as plt\n",
    "three_sigma = 1.35 * 1e-3\n",
    "five_sigma = 2.87 * 1e-7\n",
    "\n",
    "# KamLAND 0.142 b.e / 48 hours\n",
    "# Theia 5.1258 b.e / 48 hours no cuts!\n",
    "# Theia 4.072553 b.e / 48 hours cut out 50% reactor background\n",
    "background = 0.142\n",
    "events = 6\n",
    "\n",
    "x = np.arange(0, 50, 1)\n",
    " \n",
    "probabilities = poisson.pmf(x, background)\n",
    "print(probabilities[:events])\n",
    "\n",
    "plt.plot(x, probabilities)\n",
    "plt.xlim(0, 10)\n",
    "\n",
    "p_value = 1 - sum(probabilities[:events])\n",
    "if p_value <= five_sigma:\n",
    "    print (\"5 sigma significance\")\n",
    "elif p_value <= three_sigma:\n",
    "    print(\"3 sigma significance\")\n",
    "else:\n",
    "    print(\"Below 3 sigma significance\")\n",
    "\n",
    "print(\"p-value: {}\".format(p_value))\n",
    "Percentage = 100-(p_value*100)\n",
    "print(\"Pertentage: {}% \".format(Percentage))"
   ]
  },
  {
   "cell_type": "markdown",
   "metadata": {},
   "source": [
    "### Find median significance using equation 40.84 in Particle Data Group Statistics chapter"
   ]
  },
  {
   "cell_type": "markdown",
   "metadata": {},
   "source": [
    "\"To approximate the expected discovery significance assuming µ = 1, one may simply replace n with the expected value E[n|µ = 1] = s+b (the so-called “Asimov data set”), giving:\""
   ]
  },
  {
   "cell_type": "code",
   "execution_count": 1,
   "metadata": {},
   "outputs": [
    {
     "name": "stdout",
     "output_type": "stream",
     "text": [
      "4.789241544932066\n"
     ]
    }
   ],
   "source": [
    "import math\n",
    "\n",
    "# KamLAND 0.142 b.e / 48 hours\n",
    "# Theia 5.1258 b.e / 48 hours no cuts!\n",
    "# Theia 4.072553 b.e / 48 hours cut out 50% reactor background\n",
    "\n",
    "#Background\n",
    "b = 4.072553\n",
    "\n",
    "#Pre-SN signal\n",
    "s = 13\n",
    "\n",
    "significance = math.sqrt(2 * (((s + b) * math.log(1 + (s/b))) - s))\n",
    "print (significance)"
   ]
  },
  {
   "cell_type": "markdown",
   "metadata": {},
   "source": [
    "### False positive rates"
   ]
  },
  {
   "cell_type": "code",
   "execution_count": 29,
   "metadata": {},
   "outputs": [
    {
     "name": "stdout",
     "output_type": "stream",
     "text": [
      "False Positive Probabaility: 0.08806695446602553% \n"
     ]
    }
   ],
   "source": [
    "background = 815 #Per year\n",
    "events = 6\n",
    "time_scale = 0.5 #In days\n",
    "\n",
    "average_bg = (background/ 365) * time_scale\n",
    "pb = poisson.pmf(events, average_bg)\n",
    "\n",
    "print (\"False Positive Probabaility: {}% \".format(pb*100))\n",
    "\n",
    "time_window_year = 365 / time_scale\n",
    "average_false = pb * time_window_year\n"
   ]
  }
 ],
 "metadata": {
  "kernelspec": {
   "display_name": "josef",
   "language": "python",
   "name": "python3"
  },
  "language_info": {
   "codemirror_mode": {
    "name": "ipython",
    "version": 3
   },
   "file_extension": ".py",
   "mimetype": "text/x-python",
   "name": "python",
   "nbconvert_exporter": "python",
   "pygments_lexer": "ipython3",
   "version": "3.11.4"
  },
  "orig_nbformat": 4
 },
 "nbformat": 4,
 "nbformat_minor": 2
}
