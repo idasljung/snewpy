{
 "cells": [
  {
   "cell_type": "markdown",
   "metadata": {},
   "source": [
    "### Code to find significance using Poisson distribution"
   ]
  },
  {
   "cell_type": "code",
   "execution_count": 99,
   "metadata": {},
   "outputs": [
    {
     "name": "stdout",
     "output_type": "stream",
     "text": [
      "5 sigma significance\n",
      "p-value: 1.2136597850124162e-07\n",
      "Pertentage: 99.99998786340215% \n"
     ]
    }
   ],
   "source": [
    "from scipy.stats import poisson\n",
    "import numpy as np\n",
    "import matplotlib.pyplot as plt\n",
    "three_sigma = 1.35 * 1e-3\n",
    "five_sigma = 2.87 * 1e-7\n",
    "\n",
    "# KamLAND 0.142 b.e / 48 hours\n",
    "# Theia 5.1258 b.e / 48 hours\n",
    "background = 5.1258\n",
    "events = 21\n",
    "\n",
    "x = np.arange(0, 1000, 1)\n",
    "\n",
    " \n",
    "probabilities = poisson.pmf(x, background)\n",
    "\n",
    "p_value = sum(probabilities[events:])\n",
    "if p_value <= five_sigma:\n",
    "    print (\"5 sigma significance\")\n",
    "elif p_value <= three_sigma:\n",
    "    print(\"3 sigma significance\")\n",
    "else:\n",
    "    print(\"Below 3 sigma significance\")\n",
    "\n",
    "print(\"p-value: {}\".format(p_value))\n",
    "Percentage = 100-(p_value*100)\n",
    "print(\"Pertentage: {}% \".format(Percentage))"
   ]
  }
 ],
 "metadata": {
  "kernelspec": {
   "display_name": "josef",
   "language": "python",
   "name": "python3"
  },
  "language_info": {
   "codemirror_mode": {
    "name": "ipython",
    "version": 3
   },
   "file_extension": ".py",
   "mimetype": "text/x-python",
   "name": "python",
   "nbconvert_exporter": "python",
   "pygments_lexer": "ipython3",
   "version": "3.11.4"
  },
  "orig_nbformat": 4
 },
 "nbformat": 4,
 "nbformat_minor": 2
}
