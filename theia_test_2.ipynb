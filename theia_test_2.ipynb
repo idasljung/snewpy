{
 "cells": [
  {
   "cell_type": "markdown",
   "metadata": {},
   "source": [
    "### Plot events in Theia over time"
   ]
  },
  {
   "cell_type": "code",
   "execution_count": 14,
   "metadata": {},
   "outputs": [],
   "source": [
    "from astropy import units as u\n",
    "import matplotlib.pyplot as plt\n",
    "import numpy as np\n",
    "\n",
    "from snewpy import snowglobes\n",
    "\n",
    "SNOwGLoBES_path = '/Users/peterasljung/Desktop/snowglobes/' # to use custom SNOwGLoBES detector/channel/smearing files, set SNOwGLoBES directory\n",
    "SNEWPY_models_base = \"models/\"   # directory containing SNEWPY models"
   ]
  },
  {
   "cell_type": "code",
   "execution_count": 15,
   "metadata": {},
   "outputs": [],
   "source": [
    "# set distance in kpc\n",
    "distance = 0.15\n",
    "\n",
    "# set SNOwGLoBES detector to use\n",
    "detector = \"theia\"\n",
    "\n",
    "# set SNEWPY model type and filename\n",
    "modeltype = 'Odrzywolek_2010'\n",
    "model = 's15_nuebar_data'\n",
    "\n",
    "# set desired flavor transformation\n",
    "transformation = 'AdiabaticMSW_NMO'\n",
    "\n",
    "# Construct file system path of model file and name of output file\n",
    "# The output file will be stored in the same directory as the model file.\n",
    "modelfile = SNEWPY_models_base + \"presn-models/\" + modeltype + \"/\" + model + '.txt'\n",
    "outfile = modeltype+\"_\"+model+\"_\"+transformation"
   ]
  },
  {
   "cell_type": "code",
   "execution_count": 16,
   "metadata": {},
   "outputs": [],
   "source": [
    "window_tstart = - 36000\n",
    "window_tend = 0\n",
    "window_bins = 100\n",
    "tstart = np.linspace(window_tstart, window_tend, window_bins, endpoint=False) * u.s\n",
    "tend = tstart + (window_tend - window_tstart) / window_bins * u.s\n",
    "tmid = (tstart + tend) * 0.5"
   ]
  },
  {
   "cell_type": "code",
   "execution_count": 17,
   "metadata": {},
   "outputs": [
    {
     "name": "stdout",
     "output_type": "stream",
     "text": [
      "Preparing fluences ...\n"
     ]
    },
    {
     "name": "stdout",
     "output_type": "stream",
     "text": [
      "Running SNOwGLoBES ...\n"
     ]
    },
    {
     "name": "stderr",
     "output_type": "stream",
     "text": [
      "/Users/peterasljung/miniconda3/envs/josef/lib/python3.11/site-packages/snewpy/rate_calculator.py:155: UserWarning: Smearing not found for detector=theia, channel=ibd. Using unsmeared spectrum\n",
      "  warn(f'Smearing not found for detector={detector}, channel={channel.name}. Using unsmeared spectrum')\n",
      "/Users/peterasljung/miniconda3/envs/josef/lib/python3.11/site-packages/snewpy/rate_calculator.py:160: UserWarning: Efficiency not found for detector=theia, channel=ibd. Using 100% efficiency\n",
      "  warn(f'Efficiency not found for detector={detector}, channel={channel.name}. Using 100% efficiency')\n"
     ]
    },
    {
     "name": "stdout",
     "output_type": "stream",
     "text": [
      "Collating results ...\n"
     ]
    }
   ],
   "source": [
    "print(\"Preparing fluences ...\")\n",
    "tarredfile = snowglobes.generate_fluence(modelfile, modeltype, transformation, distance, outfile, tstart, tend)\n",
    "\n",
    "# Next, we run SNOwGLoBES. This will loop over all the fluence files in `tarredfile`.\n",
    "print(\"Running SNOwGLoBES ...\")\n",
    "snowglobes.simulate(SNOwGLoBES_path, tarredfile, detector_input=detector)\n",
    "\n",
    "# Finally, we collate SNOwGLoBES’ results into a dictionary\n",
    "print(\"Collating results ...\")\n",
    "tables = snowglobes.collate(SNOwGLoBES_path, tarredfile, skip_plots=True)"
   ]
  },
  {
   "cell_type": "code",
   "execution_count": 19,
   "metadata": {},
   "outputs": [
    {
     "name": "stdout",
     "output_type": "stream",
     "text": [
      "100\n"
     ]
    },
    {
     "data": {
      "image/png": "[encoded data removed]",
      "text/plain": [
       "<Figure size 640x480 with 1 Axes>"
      ]
     },
     "metadata": {},
     "output_type": "display_data"
    },
    {
     "name": "stdout",
     "output_type": "stream",
     "text": [
      "Total Events: 4310.881111317869\n"
     ]
    }
   ],
   "source": [
    "%matplotlib inline\n",
    "nevents = np.zeros(len(tmid))\n",
    "for i in range(len(tmid)):\n",
    "    key = f\"Collated_{outfile}_{i}_{detector}_events_unsmeared_weighted.dat\"\n",
    "    for j in range(1,len(tables[key]['header'].split())):\n",
    "        nevents[i] += sum(tables[key]['data'][j])\n",
    "\n",
    "# nevents is per bin, convert to per ms\n",
    "factor = window_bins / (window_tend - window_tstart) / 1000\n",
    "print(len(tmid))\n",
    "\n",
    "plt.plot(tmid, nevents)\n",
    "plt.xlabel(\"$t-t_{2c}$ [s]\")\n",
    "plt.ylabel(\"Counts [ms$^{-1}$]\")\n",
    "plt.show()\n",
    "\n",
    "print(\"Total Events:\", sum(nevents))"
   ]
  }
 ],
 "metadata": {
  "kernelspec": {
   "display_name": "josef",
   "language": "python",
   "name": "python3"
  },
  "language_info": {
   "codemirror_mode": {
    "name": "ipython",
    "version": 3
   },
   "file_extension": ".py",
   "mimetype": "text/x-python",
   "name": "python",
   "nbconvert_exporter": "python",
   "pygments_lexer": "ipython3",
   "version": "3.11.4"
  },
  "orig_nbformat": 4
 },
 "nbformat": 4,
 "nbformat_minor": 2
}
