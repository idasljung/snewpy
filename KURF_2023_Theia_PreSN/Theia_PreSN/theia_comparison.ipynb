{
 "cells": [
  {
   "cell_type": "markdown",
   "metadata": {},
   "source": [
    "### `Theia Compared to Other Detectors`\n",
    "*This notebook compares Theia to detectors Super-Kamiokande and KamLAND, it includes the following two graphs*\n",
    "\n",
    "Graph #1: Time evolution of **expected number of neutrino-interactions** 48 hours before collapse for a star of 15 solar masses located 150 pc away from earth.\n",
    "\n",
    "Graph #2: Time evolution of **significance** 48 hours before collapse for a star of 15 solarmasses located 150 pc away from earth\n"
   ]
  },
  {
   "cell_type": "markdown",
   "metadata": {},
   "source": [
    "### Graph #1: Time evolution of expected number of neutrino-interactions"
   ]
  },
  {
   "cell_type": "code",
   "execution_count": 1,
   "metadata": {},
   "outputs": [],
   "source": [
    "from astropy import units as u\n",
    "import matplotlib.pyplot as plt\n",
    "import numpy as np\n",
    "\n",
    "from snewpy import snowglobes\n",
    "\n",
    "SNOwGLoBES_path = '/Users/peterasljung/Desktop/snowglobes/' # to use custom SNOwGLoBES detector/channel/smearing files, set SNOwGLoBES directory\n",
    "SNEWPY_models_base = \"models/\"   # directory containing SNEWPY models"
   ]
  },
  {
   "cell_type": "code",
   "execution_count": 2,
   "metadata": {},
   "outputs": [],
   "source": [
    "# set distance in kpc\n",
    "distance = 0.15\n",
    "\n",
    "# set SNOwGLoBES detector to use\n",
    "detector = \"theia\"\n",
    "detector_S = \"wc100kt30prct\"\n",
    "detector_K = \"scint20kt\"\n",
    "\n",
    "# set SNEWPY model type and filename\n",
    "modeltype = 'Odrzywolek_2010'\n",
    "model = 's15_nuebar_data'\n",
    "\n",
    "# set desired flavor transformation\n",
    "transformation = 'AdiabaticMSW_NMO'\n",
    "\n",
    "# Construct file system path of model file and name of output file\n",
    "# The output file will be stored in the same directory as the model file.\n",
    "modelfile = SNEWPY_models_base + \"presn-models/\" + modeltype + \"/\" + model + '.txt'\n",
    "outfile = modeltype+\"_\"+model+\"_\"+transformation"
   ]
  },
  {
   "cell_type": "code",
   "execution_count": 3,
   "metadata": {},
   "outputs": [],
   "source": [
    "#Define time window\n",
    "window_tstart = - 36000\n",
    "window_tend = 0\n",
    "window_bins = 100\n",
    "tstart = np.linspace(window_tstart, window_tend, window_bins, endpoint=False) * u.s\n",
    "tend = tstart + (window_tend - window_tstart) / window_bins * u.s\n",
    "tmid = (tstart + tend) * 0.5"
   ]
  },
  {
   "cell_type": "code",
   "execution_count": 4,
   "metadata": {},
   "outputs": [
    {
     "name": "stdout",
     "output_type": "stream",
     "text": [
      "Preparing fluences ...\n"
     ]
    }
   ],
   "source": [
    "print(\"Preparing fluences ...\")\n",
    "tarredfile = snowglobes.generate_fluence(modelfile, modeltype, transformation, distance, outfile, tstart, tend)"
   ]
  },
  {
   "cell_type": "code",
   "execution_count": 5,
   "metadata": {},
   "outputs": [
    {
     "name": "stdout",
     "output_type": "stream",
     "text": [
      "Running SNOwGLoBES ...\n",
      "Collating results ...\n"
     ]
    }
   ],
   "source": [
    "#Super K\n",
    "\n",
    "print(\"Running SNOwGLoBES ...\")\n",
    "snowglobes.simulate(SNOwGLoBES_path, tarredfile, detector_input=detector_S)\n",
    "\n",
    "# Finally, we collate SNOwGLoBES’ results into a dictionary\n",
    "print(\"Collating results ...\")\n",
    "tables_S = snowglobes.collate(SNOwGLoBES_path, tarredfile, skip_plots=True)"
   ]
  },
  {
   "cell_type": "code",
   "execution_count": 6,
   "metadata": {},
   "outputs": [
    {
     "name": "stdout",
     "output_type": "stream",
     "text": [
      "Running SNOwGLoBES ...\n"
     ]
    },
    {
     "name": "stderr",
     "output_type": "stream",
     "text": [
      "/Users/peterasljung/miniconda3/envs/josef/lib/python3.11/site-packages/snewpy/rate_calculator.py:155: UserWarning: Smearing not found for detector=theia, channel=ibd. Using unsmeared spectrum\n",
      "  warn(f'Smearing not found for detector={detector}, channel={channel.name}. Using unsmeared spectrum')\n",
      "/Users/peterasljung/miniconda3/envs/josef/lib/python3.11/site-packages/snewpy/rate_calculator.py:160: UserWarning: Efficiency not found for detector=theia, channel=ibd. Using 100% efficiency\n",
      "  warn(f'Efficiency not found for detector={detector}, channel={channel.name}. Using 100% efficiency')\n"
     ]
    },
    {
     "name": "stdout",
     "output_type": "stream",
     "text": [
      "Collating results ...\n"
     ]
    }
   ],
   "source": [
    "#Theia\n",
    "\n",
    "print(\"Running SNOwGLoBES ...\")\n",
    "snowglobes.simulate(SNOwGLoBES_path, tarredfile, detector_input=detector)\n",
    "\n",
    "# Finally, we collate SNOwGLoBES’ results into a dictionary\n",
    "print(\"Collating results ...\")\n",
    "tables = snowglobes.collate(SNOwGLoBES_path, tarredfile, skip_plots=True)"
   ]
  },
  {
   "cell_type": "code",
   "execution_count": 7,
   "metadata": {},
   "outputs": [
    {
     "name": "stdout",
     "output_type": "stream",
     "text": [
      "Running SNOwGLoBES ...\n"
     ]
    },
    {
     "name": "stderr",
     "output_type": "stream",
     "text": [
      "/Users/peterasljung/miniconda3/envs/josef/lib/python3.11/site-packages/snewpy/rate_calculator.py:160: UserWarning: Efficiency not found for detector=scint20kt, channel=ibd. Using 100% efficiency\n",
      "  warn(f'Efficiency not found for detector={detector}, channel={channel.name}. Using 100% efficiency')\n",
      "/Users/peterasljung/miniconda3/envs/josef/lib/python3.11/site-packages/snewpy/rate_calculator.py:160: UserWarning: Efficiency not found for detector=scint20kt, channel=nue_e. Using 100% efficiency\n",
      "  warn(f'Efficiency not found for detector={detector}, channel={channel.name}. Using 100% efficiency')\n",
      "/Users/peterasljung/miniconda3/envs/josef/lib/python3.11/site-packages/snewpy/rate_calculator.py:160: UserWarning: Efficiency not found for detector=scint20kt, channel=nuebar_e. Using 100% efficiency\n",
      "  warn(f'Efficiency not found for detector={detector}, channel={channel.name}. Using 100% efficiency')\n",
      "/Users/peterasljung/miniconda3/envs/josef/lib/python3.11/site-packages/snewpy/rate_calculator.py:160: UserWarning: Efficiency not found for detector=scint20kt, channel=numu_e. Using 100% efficiency\n",
      "  warn(f'Efficiency not found for detector={detector}, channel={channel.name}. Using 100% efficiency')\n",
      "/Users/peterasljung/miniconda3/envs/josef/lib/python3.11/site-packages/snewpy/rate_calculator.py:160: UserWarning: Efficiency not found for detector=scint20kt, channel=numubar_e. Using 100% efficiency\n",
      "  warn(f'Efficiency not found for detector={detector}, channel={channel.name}. Using 100% efficiency')\n",
      "/Users/peterasljung/miniconda3/envs/josef/lib/python3.11/site-packages/snewpy/rate_calculator.py:160: UserWarning: Efficiency not found for detector=scint20kt, channel=nutau_e. Using 100% efficiency\n",
      "  warn(f'Efficiency not found for detector={detector}, channel={channel.name}. Using 100% efficiency')\n",
      "/Users/peterasljung/miniconda3/envs/josef/lib/python3.11/site-packages/snewpy/rate_calculator.py:160: UserWarning: Efficiency not found for detector=scint20kt, channel=nutaubar_e. Using 100% efficiency\n",
      "  warn(f'Efficiency not found for detector={detector}, channel={channel.name}. Using 100% efficiency')\n",
      "/Users/peterasljung/miniconda3/envs/josef/lib/python3.11/site-packages/snewpy/rate_calculator.py:160: UserWarning: Efficiency not found for detector=scint20kt, channel=nue_C12. Using 100% efficiency\n",
      "  warn(f'Efficiency not found for detector={detector}, channel={channel.name}. Using 100% efficiency')\n",
      "/Users/peterasljung/miniconda3/envs/josef/lib/python3.11/site-packages/snewpy/rate_calculator.py:160: UserWarning: Efficiency not found for detector=scint20kt, channel=nuebar_C12. Using 100% efficiency\n",
      "  warn(f'Efficiency not found for detector={detector}, channel={channel.name}. Using 100% efficiency')\n",
      "/Users/peterasljung/miniconda3/envs/josef/lib/python3.11/site-packages/snewpy/rate_calculator.py:160: UserWarning: Efficiency not found for detector=scint20kt, channel=nc_nue_C12. Using 100% efficiency\n",
      "  warn(f'Efficiency not found for detector={detector}, channel={channel.name}. Using 100% efficiency')\n",
      "/Users/peterasljung/miniconda3/envs/josef/lib/python3.11/site-packages/snewpy/rate_calculator.py:160: UserWarning: Efficiency not found for detector=scint20kt, channel=nc_nuebar_C12. Using 100% efficiency\n",
      "  warn(f'Efficiency not found for detector={detector}, channel={channel.name}. Using 100% efficiency')\n",
      "/Users/peterasljung/miniconda3/envs/josef/lib/python3.11/site-packages/snewpy/rate_calculator.py:160: UserWarning: Efficiency not found for detector=scint20kt, channel=nc_numu_C12. Using 100% efficiency\n",
      "  warn(f'Efficiency not found for detector={detector}, channel={channel.name}. Using 100% efficiency')\n",
      "/Users/peterasljung/miniconda3/envs/josef/lib/python3.11/site-packages/snewpy/rate_calculator.py:160: UserWarning: Efficiency not found for detector=scint20kt, channel=nc_numubar_C12. Using 100% efficiency\n",
      "  warn(f'Efficiency not found for detector={detector}, channel={channel.name}. Using 100% efficiency')\n",
      "/Users/peterasljung/miniconda3/envs/josef/lib/python3.11/site-packages/snewpy/rate_calculator.py:160: UserWarning: Efficiency not found for detector=scint20kt, channel=nc_nutau_C12. Using 100% efficiency\n",
      "  warn(f'Efficiency not found for detector={detector}, channel={channel.name}. Using 100% efficiency')\n",
      "/Users/peterasljung/miniconda3/envs/josef/lib/python3.11/site-packages/snewpy/rate_calculator.py:160: UserWarning: Efficiency not found for detector=scint20kt, channel=nc_nutaubar_C12. Using 100% efficiency\n",
      "  warn(f'Efficiency not found for detector={detector}, channel={channel.name}. Using 100% efficiency')\n",
      "/Users/peterasljung/miniconda3/envs/josef/lib/python3.11/site-packages/snewpy/rate_calculator.py:160: UserWarning: Efficiency not found for detector=scint20kt, channel=nue_C13. Using 100% efficiency\n",
      "  warn(f'Efficiency not found for detector={detector}, channel={channel.name}. Using 100% efficiency')\n",
      "/Users/peterasljung/miniconda3/envs/josef/lib/python3.11/site-packages/snewpy/rate_calculator.py:160: UserWarning: Efficiency not found for detector=scint20kt, channel=nc_nue_C13. Using 100% efficiency\n",
      "  warn(f'Efficiency not found for detector={detector}, channel={channel.name}. Using 100% efficiency')\n",
      "/Users/peterasljung/miniconda3/envs/josef/lib/python3.11/site-packages/snewpy/rate_calculator.py:160: UserWarning: Efficiency not found for detector=scint20kt, channel=nc_numu_C13. Using 100% efficiency\n",
      "  warn(f'Efficiency not found for detector={detector}, channel={channel.name}. Using 100% efficiency')\n",
      "/Users/peterasljung/miniconda3/envs/josef/lib/python3.11/site-packages/snewpy/rate_calculator.py:160: UserWarning: Efficiency not found for detector=scint20kt, channel=nc_nutau_C13. Using 100% efficiency\n",
      "  warn(f'Efficiency not found for detector={detector}, channel={channel.name}. Using 100% efficiency')\n",
      "/Users/peterasljung/miniconda3/envs/josef/lib/python3.11/site-packages/snewpy/rate_calculator.py:160: UserWarning: Efficiency not found for detector=scint20kt, channel=nc_nuebar_C13. Using 100% efficiency\n",
      "  warn(f'Efficiency not found for detector={detector}, channel={channel.name}. Using 100% efficiency')\n",
      "/Users/peterasljung/miniconda3/envs/josef/lib/python3.11/site-packages/snewpy/rate_calculator.py:160: UserWarning: Efficiency not found for detector=scint20kt, channel=nc_numubar_C13. Using 100% efficiency\n",
      "  warn(f'Efficiency not found for detector={detector}, channel={channel.name}. Using 100% efficiency')\n",
      "/Users/peterasljung/miniconda3/envs/josef/lib/python3.11/site-packages/snewpy/rate_calculator.py:160: UserWarning: Efficiency not found for detector=scint20kt, channel=nc_nutaubar_C13. Using 100% efficiency\n",
      "  warn(f'Efficiency not found for detector={detector}, channel={channel.name}. Using 100% efficiency')\n"
     ]
    },
    {
     "name": "stdout",
     "output_type": "stream",
     "text": [
      "Collating results ...\n"
     ]
    }
   ],
   "source": [
    "#KamLAND\n",
    "\n",
    "print(\"Running SNOwGLoBES ...\")\n",
    "snowglobes.simulate(SNOwGLoBES_path, tarredfile, detector_input=detector_K)\n",
    "\n",
    "# Finally, we collate SNOwGLoBES’ results into a dictionary\n",
    "print(\"Collating results ...\")\n",
    "tables_K = snowglobes.collate(SNOwGLoBES_path, tarredfile, skip_plots=True)"
   ]
  },
  {
   "cell_type": "code",
   "execution_count": 8,
   "metadata": {},
   "outputs": [
    {
     "name": "stdout",
     "output_type": "stream",
     "text": [
      "['theia', 'Collated_Odrzywolek_2010_s15_nuebar_data_AdiabaticMSW_NMO_0_theia_events_smeared_weighted.dat', 'Collated_Odrzywolek_2010_s15_nuebar_data_AdiabaticMSW_NMO_0_theia_events_unsmeared_weighted.dat', 'Collated_Odrzywolek_2010_s15_nuebar_data_AdiabaticMSW_NMO_1_theia_events_smeared_weighted.dat', 'Collated_Odrzywolek_2010_s15_nuebar_data_AdiabaticMSW_NMO_1_theia_events_unsmeared_weighted.dat', 'Collated_Odrzywolek_2010_s15_nuebar_data_AdiabaticMSW_NMO_2_theia_events_smeared_weighted.dat', 'Collated_Odrzywolek_2010_s15_nuebar_data_AdiabaticMSW_NMO_2_theia_events_unsmeared_weighted.dat', 'Collated_Odrzywolek_2010_s15_nuebar_data_AdiabaticMSW_NMO_3_theia_events_smeared_weighted.dat', 'Collated_Odrzywolek_2010_s15_nuebar_data_AdiabaticMSW_NMO_3_theia_events_unsmeared_weighted.dat', 'Collated_Odrzywolek_2010_s15_nuebar_data_AdiabaticMSW_NMO_4_theia_events_smeared_weighted.dat', 'Collated_Odrzywolek_2010_s15_nuebar_data_AdiabaticMSW_NMO_4_theia_events_unsmeared_weighted.dat', 'Collated_Odrzywolek_2010_s15_nuebar_data_AdiabaticMSW_NMO_5_theia_events_smeared_weighted.dat', 'Collated_Odrzywolek_2010_s15_nuebar_data_AdiabaticMSW_NMO_5_theia_events_unsmeared_weighted.dat', 'Collated_Odrzywolek_2010_s15_nuebar_data_AdiabaticMSW_NMO_6_theia_events_smeared_weighted.dat', 'Collated_Odrzywolek_2010_s15_nuebar_data_AdiabaticMSW_NMO_6_theia_events_unsmeared_weighted.dat', 'Collated_Odrzywolek_2010_s15_nuebar_data_AdiabaticMSW_NMO_7_theia_events_smeared_weighted.dat', 'Collated_Odrzywolek_2010_s15_nuebar_data_AdiabaticMSW_NMO_7_theia_events_unsmeared_weighted.dat', 'Collated_Odrzywolek_2010_s15_nuebar_data_AdiabaticMSW_NMO_8_theia_events_smeared_weighted.dat', 'Collated_Odrzywolek_2010_s15_nuebar_data_AdiabaticMSW_NMO_8_theia_events_unsmeared_weighted.dat', 'Collated_Odrzywolek_2010_s15_nuebar_data_AdiabaticMSW_NMO_9_theia_events_smeared_weighted.dat', 'Collated_Odrzywolek_2010_s15_nuebar_data_AdiabaticMSW_NMO_9_theia_events_unsmeared_weighted.dat', 'Collated_Odrzywolek_2010_s15_nuebar_data_AdiabaticMSW_NMO_10_theia_events_smeared_weighted.dat', 'Collated_Odrzywolek_2010_s15_nuebar_data_AdiabaticMSW_NMO_10_theia_events_unsmeared_weighted.dat', 'Collated_Odrzywolek_2010_s15_nuebar_data_AdiabaticMSW_NMO_11_theia_events_smeared_weighted.dat', 'Collated_Odrzywolek_2010_s15_nuebar_data_AdiabaticMSW_NMO_11_theia_events_unsmeared_weighted.dat', 'Collated_Odrzywolek_2010_s15_nuebar_data_AdiabaticMSW_NMO_12_theia_events_smeared_weighted.dat', 'Collated_Odrzywolek_2010_s15_nuebar_data_AdiabaticMSW_NMO_12_theia_events_unsmeared_weighted.dat', 'Collated_Odrzywolek_2010_s15_nuebar_data_AdiabaticMSW_NMO_13_theia_events_smeared_weighted.dat', 'Collated_Odrzywolek_2010_s15_nuebar_data_AdiabaticMSW_NMO_13_theia_events_unsmeared_weighted.dat', 'Collated_Odrzywolek_2010_s15_nuebar_data_AdiabaticMSW_NMO_14_theia_events_smeared_weighted.dat', 'Collated_Odrzywolek_2010_s15_nuebar_data_AdiabaticMSW_NMO_14_theia_events_unsmeared_weighted.dat', 'Collated_Odrzywolek_2010_s15_nuebar_data_AdiabaticMSW_NMO_15_theia_events_smeared_weighted.dat', 'Collated_Odrzywolek_2010_s15_nuebar_data_AdiabaticMSW_NMO_15_theia_events_unsmeared_weighted.dat', 'Collated_Odrzywolek_2010_s15_nuebar_data_AdiabaticMSW_NMO_16_theia_events_smeared_weighted.dat', 'Collated_Odrzywolek_2010_s15_nuebar_data_AdiabaticMSW_NMO_16_theia_events_unsmeared_weighted.dat', 'Collated_Odrzywolek_2010_s15_nuebar_data_AdiabaticMSW_NMO_17_theia_events_smeared_weighted.dat', 'Collated_Odrzywolek_2010_s15_nuebar_data_AdiabaticMSW_NMO_17_theia_events_unsmeared_weighted.dat', 'Collated_Odrzywolek_2010_s15_nuebar_data_AdiabaticMSW_NMO_18_theia_events_smeared_weighted.dat', 'Collated_Odrzywolek_2010_s15_nuebar_data_AdiabaticMSW_NMO_18_theia_events_unsmeared_weighted.dat', 'Collated_Odrzywolek_2010_s15_nuebar_data_AdiabaticMSW_NMO_19_theia_events_smeared_weighted.dat', 'Collated_Odrzywolek_2010_s15_nuebar_data_AdiabaticMSW_NMO_19_theia_events_unsmeared_weighted.dat', 'Collated_Odrzywolek_2010_s15_nuebar_data_AdiabaticMSW_NMO_20_theia_events_smeared_weighted.dat', 'Collated_Odrzywolek_2010_s15_nuebar_data_AdiabaticMSW_NMO_20_theia_events_unsmeared_weighted.dat', 'Collated_Odrzywolek_2010_s15_nuebar_data_AdiabaticMSW_NMO_21_theia_events_smeared_weighted.dat', 'Collated_Odrzywolek_2010_s15_nuebar_data_AdiabaticMSW_NMO_21_theia_events_unsmeared_weighted.dat', 'Collated_Odrzywolek_2010_s15_nuebar_data_AdiabaticMSW_NMO_22_theia_events_smeared_weighted.dat', 'Collated_Odrzywolek_2010_s15_nuebar_data_AdiabaticMSW_NMO_22_theia_events_unsmeared_weighted.dat', 'Collated_Odrzywolek_2010_s15_nuebar_data_AdiabaticMSW_NMO_23_theia_events_smeared_weighted.dat', 'Collated_Odrzywolek_2010_s15_nuebar_data_AdiabaticMSW_NMO_23_theia_events_unsmeared_weighted.dat', 'Collated_Odrzywolek_2010_s15_nuebar_data_AdiabaticMSW_NMO_24_theia_events_smeared_weighted.dat', 'Collated_Odrzywolek_2010_s15_nuebar_data_AdiabaticMSW_NMO_24_theia_events_unsmeared_weighted.dat', 'Collated_Odrzywolek_2010_s15_nuebar_data_AdiabaticMSW_NMO_25_theia_events_smeared_weighted.dat', 'Collated_Odrzywolek_2010_s15_nuebar_data_AdiabaticMSW_NMO_25_theia_events_unsmeared_weighted.dat', 'Collated_Odrzywolek_2010_s15_nuebar_data_AdiabaticMSW_NMO_26_theia_events_smeared_weighted.dat', 'Collated_Odrzywolek_2010_s15_nuebar_data_AdiabaticMSW_NMO_26_theia_events_unsmeared_weighted.dat', 'Collated_Odrzywolek_2010_s15_nuebar_data_AdiabaticMSW_NMO_27_theia_events_smeared_weighted.dat', 'Collated_Odrzywolek_2010_s15_nuebar_data_AdiabaticMSW_NMO_27_theia_events_unsmeared_weighted.dat', 'Collated_Odrzywolek_2010_s15_nuebar_data_AdiabaticMSW_NMO_28_theia_events_smeared_weighted.dat', 'Collated_Odrzywolek_2010_s15_nuebar_data_AdiabaticMSW_NMO_28_theia_events_unsmeared_weighted.dat', 'Collated_Odrzywolek_2010_s15_nuebar_data_AdiabaticMSW_NMO_29_theia_events_smeared_weighted.dat', 'Collated_Odrzywolek_2010_s15_nuebar_data_AdiabaticMSW_NMO_29_theia_events_unsmeared_weighted.dat', 'Collated_Odrzywolek_2010_s15_nuebar_data_AdiabaticMSW_NMO_30_theia_events_smeared_weighted.dat', 'Collated_Odrzywolek_2010_s15_nuebar_data_AdiabaticMSW_NMO_30_theia_events_unsmeared_weighted.dat', 'Collated_Odrzywolek_2010_s15_nuebar_data_AdiabaticMSW_NMO_31_theia_events_smeared_weighted.dat', 'Collated_Odrzywolek_2010_s15_nuebar_data_AdiabaticMSW_NMO_31_theia_events_unsmeared_weighted.dat', 'Collated_Odrzywolek_2010_s15_nuebar_data_AdiabaticMSW_NMO_32_theia_events_smeared_weighted.dat', 'Collated_Odrzywolek_2010_s15_nuebar_data_AdiabaticMSW_NMO_32_theia_events_unsmeared_weighted.dat', 'Collated_Odrzywolek_2010_s15_nuebar_data_AdiabaticMSW_NMO_33_theia_events_smeared_weighted.dat', 'Collated_Odrzywolek_2010_s15_nuebar_data_AdiabaticMSW_NMO_33_theia_events_unsmeared_weighted.dat', 'Collated_Odrzywolek_2010_s15_nuebar_data_AdiabaticMSW_NMO_34_theia_events_smeared_weighted.dat', 'Collated_Odrzywolek_2010_s15_nuebar_data_AdiabaticMSW_NMO_34_theia_events_unsmeared_weighted.dat', 'Collated_Odrzywolek_2010_s15_nuebar_data_AdiabaticMSW_NMO_35_theia_events_smeared_weighted.dat', 'Collated_Odrzywolek_2010_s15_nuebar_data_AdiabaticMSW_NMO_35_theia_events_unsmeared_weighted.dat', 'Collated_Odrzywolek_2010_s15_nuebar_data_AdiabaticMSW_NMO_36_theia_events_smeared_weighted.dat', 'Collated_Odrzywolek_2010_s15_nuebar_data_AdiabaticMSW_NMO_36_theia_events_unsmeared_weighted.dat', 'Collated_Odrzywolek_2010_s15_nuebar_data_AdiabaticMSW_NMO_37_theia_events_smeared_weighted.dat', 'Collated_Odrzywolek_2010_s15_nuebar_data_AdiabaticMSW_NMO_37_theia_events_unsmeared_weighted.dat', 'Collated_Odrzywolek_2010_s15_nuebar_data_AdiabaticMSW_NMO_38_theia_events_smeared_weighted.dat', 'Collated_Odrzywolek_2010_s15_nuebar_data_AdiabaticMSW_NMO_38_theia_events_unsmeared_weighted.dat', 'Collated_Odrzywolek_2010_s15_nuebar_data_AdiabaticMSW_NMO_39_theia_events_smeared_weighted.dat', 'Collated_Odrzywolek_2010_s15_nuebar_data_AdiabaticMSW_NMO_39_theia_events_unsmeared_weighted.dat', 'Collated_Odrzywolek_2010_s15_nuebar_data_AdiabaticMSW_NMO_40_theia_events_smeared_weighted.dat', 'Collated_Odrzywolek_2010_s15_nuebar_data_AdiabaticMSW_NMO_40_theia_events_unsmeared_weighted.dat', 'Collated_Odrzywolek_2010_s15_nuebar_data_AdiabaticMSW_NMO_41_theia_events_smeared_weighted.dat', 'Collated_Odrzywolek_2010_s15_nuebar_data_AdiabaticMSW_NMO_41_theia_events_unsmeared_weighted.dat', 'Collated_Odrzywolek_2010_s15_nuebar_data_AdiabaticMSW_NMO_42_theia_events_smeared_weighted.dat', 'Collated_Odrzywolek_2010_s15_nuebar_data_AdiabaticMSW_NMO_42_theia_events_unsmeared_weighted.dat', 'Collated_Odrzywolek_2010_s15_nuebar_data_AdiabaticMSW_NMO_43_theia_events_smeared_weighted.dat', 'Collated_Odrzywolek_2010_s15_nuebar_data_AdiabaticMSW_NMO_43_theia_events_unsmeared_weighted.dat', 'Collated_Odrzywolek_2010_s15_nuebar_data_AdiabaticMSW_NMO_44_theia_events_smeared_weighted.dat', 'Collated_Odrzywolek_2010_s15_nuebar_data_AdiabaticMSW_NMO_44_theia_events_unsmeared_weighted.dat', 'Collated_Odrzywolek_2010_s15_nuebar_data_AdiabaticMSW_NMO_45_theia_events_smeared_weighted.dat', 'Collated_Odrzywolek_2010_s15_nuebar_data_AdiabaticMSW_NMO_45_theia_events_unsmeared_weighted.dat', 'Collated_Odrzywolek_2010_s15_nuebar_data_AdiabaticMSW_NMO_46_theia_events_smeared_weighted.dat', 'Collated_Odrzywolek_2010_s15_nuebar_data_AdiabaticMSW_NMO_46_theia_events_unsmeared_weighted.dat', 'Collated_Odrzywolek_2010_s15_nuebar_data_AdiabaticMSW_NMO_47_theia_events_smeared_weighted.dat', 'Collated_Odrzywolek_2010_s15_nuebar_data_AdiabaticMSW_NMO_47_theia_events_unsmeared_weighted.dat', 'Collated_Odrzywolek_2010_s15_nuebar_data_AdiabaticMSW_NMO_48_theia_events_smeared_weighted.dat', 'Collated_Odrzywolek_2010_s15_nuebar_data_AdiabaticMSW_NMO_48_theia_events_unsmeared_weighted.dat', 'Collated_Odrzywolek_2010_s15_nuebar_data_AdiabaticMSW_NMO_49_theia_events_smeared_weighted.dat', 'Collated_Odrzywolek_2010_s15_nuebar_data_AdiabaticMSW_NMO_49_theia_events_unsmeared_weighted.dat', 'Collated_Odrzywolek_2010_s15_nuebar_data_AdiabaticMSW_NMO_50_theia_events_smeared_weighted.dat', 'Collated_Odrzywolek_2010_s15_nuebar_data_AdiabaticMSW_NMO_50_theia_events_unsmeared_weighted.dat', 'Collated_Odrzywolek_2010_s15_nuebar_data_AdiabaticMSW_NMO_51_theia_events_smeared_weighted.dat', 'Collated_Odrzywolek_2010_s15_nuebar_data_AdiabaticMSW_NMO_51_theia_events_unsmeared_weighted.dat', 'Collated_Odrzywolek_2010_s15_nuebar_data_AdiabaticMSW_NMO_52_theia_events_smeared_weighted.dat', 'Collated_Odrzywolek_2010_s15_nuebar_data_AdiabaticMSW_NMO_52_theia_events_unsmeared_weighted.dat', 'Collated_Odrzywolek_2010_s15_nuebar_data_AdiabaticMSW_NMO_53_theia_events_smeared_weighted.dat', 'Collated_Odrzywolek_2010_s15_nuebar_data_AdiabaticMSW_NMO_53_theia_events_unsmeared_weighted.dat', 'Collated_Odrzywolek_2010_s15_nuebar_data_AdiabaticMSW_NMO_54_theia_events_smeared_weighted.dat', 'Collated_Odrzywolek_2010_s15_nuebar_data_AdiabaticMSW_NMO_54_theia_events_unsmeared_weighted.dat', 'Collated_Odrzywolek_2010_s15_nuebar_data_AdiabaticMSW_NMO_55_theia_events_smeared_weighted.dat', 'Collated_Odrzywolek_2010_s15_nuebar_data_AdiabaticMSW_NMO_55_theia_events_unsmeared_weighted.dat', 'Collated_Odrzywolek_2010_s15_nuebar_data_AdiabaticMSW_NMO_56_theia_events_smeared_weighted.dat', 'Collated_Odrzywolek_2010_s15_nuebar_data_AdiabaticMSW_NMO_56_theia_events_unsmeared_weighted.dat', 'Collated_Odrzywolek_2010_s15_nuebar_data_AdiabaticMSW_NMO_57_theia_events_smeared_weighted.dat', 'Collated_Odrzywolek_2010_s15_nuebar_data_AdiabaticMSW_NMO_57_theia_events_unsmeared_weighted.dat', 'Collated_Odrzywolek_2010_s15_nuebar_data_AdiabaticMSW_NMO_58_theia_events_smeared_weighted.dat', 'Collated_Odrzywolek_2010_s15_nuebar_data_AdiabaticMSW_NMO_58_theia_events_unsmeared_weighted.dat', 'Collated_Odrzywolek_2010_s15_nuebar_data_AdiabaticMSW_NMO_59_theia_events_smeared_weighted.dat', 'Collated_Odrzywolek_2010_s15_nuebar_data_AdiabaticMSW_NMO_59_theia_events_unsmeared_weighted.dat', 'Collated_Odrzywolek_2010_s15_nuebar_data_AdiabaticMSW_NMO_60_theia_events_smeared_weighted.dat', 'Collated_Odrzywolek_2010_s15_nuebar_data_AdiabaticMSW_NMO_60_theia_events_unsmeared_weighted.dat', 'Collated_Odrzywolek_2010_s15_nuebar_data_AdiabaticMSW_NMO_61_theia_events_smeared_weighted.dat', 'Collated_Odrzywolek_2010_s15_nuebar_data_AdiabaticMSW_NMO_61_theia_events_unsmeared_weighted.dat', 'Collated_Odrzywolek_2010_s15_nuebar_data_AdiabaticMSW_NMO_62_theia_events_smeared_weighted.dat', 'Collated_Odrzywolek_2010_s15_nuebar_data_AdiabaticMSW_NMO_62_theia_events_unsmeared_weighted.dat', 'Collated_Odrzywolek_2010_s15_nuebar_data_AdiabaticMSW_NMO_63_theia_events_smeared_weighted.dat', 'Collated_Odrzywolek_2010_s15_nuebar_data_AdiabaticMSW_NMO_63_theia_events_unsmeared_weighted.dat', 'Collated_Odrzywolek_2010_s15_nuebar_data_AdiabaticMSW_NMO_64_theia_events_smeared_weighted.dat', 'Collated_Odrzywolek_2010_s15_nuebar_data_AdiabaticMSW_NMO_64_theia_events_unsmeared_weighted.dat', 'Collated_Odrzywolek_2010_s15_nuebar_data_AdiabaticMSW_NMO_65_theia_events_smeared_weighted.dat', 'Collated_Odrzywolek_2010_s15_nuebar_data_AdiabaticMSW_NMO_65_theia_events_unsmeared_weighted.dat', 'Collated_Odrzywolek_2010_s15_nuebar_data_AdiabaticMSW_NMO_66_theia_events_smeared_weighted.dat', 'Collated_Odrzywolek_2010_s15_nuebar_data_AdiabaticMSW_NMO_66_theia_events_unsmeared_weighted.dat', 'Collated_Odrzywolek_2010_s15_nuebar_data_AdiabaticMSW_NMO_67_theia_events_smeared_weighted.dat', 'Collated_Odrzywolek_2010_s15_nuebar_data_AdiabaticMSW_NMO_67_theia_events_unsmeared_weighted.dat', 'Collated_Odrzywolek_2010_s15_nuebar_data_AdiabaticMSW_NMO_68_theia_events_smeared_weighted.dat', 'Collated_Odrzywolek_2010_s15_nuebar_data_AdiabaticMSW_NMO_68_theia_events_unsmeared_weighted.dat', 'Collated_Odrzywolek_2010_s15_nuebar_data_AdiabaticMSW_NMO_69_theia_events_smeared_weighted.dat', 'Collated_Odrzywolek_2010_s15_nuebar_data_AdiabaticMSW_NMO_69_theia_events_unsmeared_weighted.dat', 'Collated_Odrzywolek_2010_s15_nuebar_data_AdiabaticMSW_NMO_70_theia_events_smeared_weighted.dat', 'Collated_Odrzywolek_2010_s15_nuebar_data_AdiabaticMSW_NMO_70_theia_events_unsmeared_weighted.dat', 'Collated_Odrzywolek_2010_s15_nuebar_data_AdiabaticMSW_NMO_71_theia_events_smeared_weighted.dat', 'Collated_Odrzywolek_2010_s15_nuebar_data_AdiabaticMSW_NMO_71_theia_events_unsmeared_weighted.dat', 'Collated_Odrzywolek_2010_s15_nuebar_data_AdiabaticMSW_NMO_72_theia_events_smeared_weighted.dat', 'Collated_Odrzywolek_2010_s15_nuebar_data_AdiabaticMSW_NMO_72_theia_events_unsmeared_weighted.dat', 'Collated_Odrzywolek_2010_s15_nuebar_data_AdiabaticMSW_NMO_73_theia_events_smeared_weighted.dat', 'Collated_Odrzywolek_2010_s15_nuebar_data_AdiabaticMSW_NMO_73_theia_events_unsmeared_weighted.dat', 'Collated_Odrzywolek_2010_s15_nuebar_data_AdiabaticMSW_NMO_74_theia_events_smeared_weighted.dat', 'Collated_Odrzywolek_2010_s15_nuebar_data_AdiabaticMSW_NMO_74_theia_events_unsmeared_weighted.dat', 'Collated_Odrzywolek_2010_s15_nuebar_data_AdiabaticMSW_NMO_75_theia_events_smeared_weighted.dat', 'Collated_Odrzywolek_2010_s15_nuebar_data_AdiabaticMSW_NMO_75_theia_events_unsmeared_weighted.dat', 'Collated_Odrzywolek_2010_s15_nuebar_data_AdiabaticMSW_NMO_76_theia_events_smeared_weighted.dat', 'Collated_Odrzywolek_2010_s15_nuebar_data_AdiabaticMSW_NMO_76_theia_events_unsmeared_weighted.dat', 'Collated_Odrzywolek_2010_s15_nuebar_data_AdiabaticMSW_NMO_77_theia_events_smeared_weighted.dat', 'Collated_Odrzywolek_2010_s15_nuebar_data_AdiabaticMSW_NMO_77_theia_events_unsmeared_weighted.dat', 'Collated_Odrzywolek_2010_s15_nuebar_data_AdiabaticMSW_NMO_78_theia_events_smeared_weighted.dat', 'Collated_Odrzywolek_2010_s15_nuebar_data_AdiabaticMSW_NMO_78_theia_events_unsmeared_weighted.dat', 'Collated_Odrzywolek_2010_s15_nuebar_data_AdiabaticMSW_NMO_79_theia_events_smeared_weighted.dat', 'Collated_Odrzywolek_2010_s15_nuebar_data_AdiabaticMSW_NMO_79_theia_events_unsmeared_weighted.dat', 'Collated_Odrzywolek_2010_s15_nuebar_data_AdiabaticMSW_NMO_80_theia_events_smeared_weighted.dat', 'Collated_Odrzywolek_2010_s15_nuebar_data_AdiabaticMSW_NMO_80_theia_events_unsmeared_weighted.dat', 'Collated_Odrzywolek_2010_s15_nuebar_data_AdiabaticMSW_NMO_81_theia_events_smeared_weighted.dat', 'Collated_Odrzywolek_2010_s15_nuebar_data_AdiabaticMSW_NMO_81_theia_events_unsmeared_weighted.dat', 'Collated_Odrzywolek_2010_s15_nuebar_data_AdiabaticMSW_NMO_82_theia_events_smeared_weighted.dat', 'Collated_Odrzywolek_2010_s15_nuebar_data_AdiabaticMSW_NMO_82_theia_events_unsmeared_weighted.dat', 'Collated_Odrzywolek_2010_s15_nuebar_data_AdiabaticMSW_NMO_83_theia_events_smeared_weighted.dat', 'Collated_Odrzywolek_2010_s15_nuebar_data_AdiabaticMSW_NMO_83_theia_events_unsmeared_weighted.dat', 'Collated_Odrzywolek_2010_s15_nuebar_data_AdiabaticMSW_NMO_84_theia_events_smeared_weighted.dat', 'Collated_Odrzywolek_2010_s15_nuebar_data_AdiabaticMSW_NMO_84_theia_events_unsmeared_weighted.dat', 'Collated_Odrzywolek_2010_s15_nuebar_data_AdiabaticMSW_NMO_85_theia_events_smeared_weighted.dat', 'Collated_Odrzywolek_2010_s15_nuebar_data_AdiabaticMSW_NMO_85_theia_events_unsmeared_weighted.dat', 'Collated_Odrzywolek_2010_s15_nuebar_data_AdiabaticMSW_NMO_86_theia_events_smeared_weighted.dat', 'Collated_Odrzywolek_2010_s15_nuebar_data_AdiabaticMSW_NMO_86_theia_events_unsmeared_weighted.dat', 'Collated_Odrzywolek_2010_s15_nuebar_data_AdiabaticMSW_NMO_87_theia_events_smeared_weighted.dat', 'Collated_Odrzywolek_2010_s15_nuebar_data_AdiabaticMSW_NMO_87_theia_events_unsmeared_weighted.dat', 'Collated_Odrzywolek_2010_s15_nuebar_data_AdiabaticMSW_NMO_88_theia_events_smeared_weighted.dat', 'Collated_Odrzywolek_2010_s15_nuebar_data_AdiabaticMSW_NMO_88_theia_events_unsmeared_weighted.dat', 'Collated_Odrzywolek_2010_s15_nuebar_data_AdiabaticMSW_NMO_89_theia_events_smeared_weighted.dat', 'Collated_Odrzywolek_2010_s15_nuebar_data_AdiabaticMSW_NMO_89_theia_events_unsmeared_weighted.dat', 'Collated_Odrzywolek_2010_s15_nuebar_data_AdiabaticMSW_NMO_90_theia_events_smeared_weighted.dat', 'Collated_Odrzywolek_2010_s15_nuebar_data_AdiabaticMSW_NMO_90_theia_events_unsmeared_weighted.dat', 'Collated_Odrzywolek_2010_s15_nuebar_data_AdiabaticMSW_NMO_91_theia_events_smeared_weighted.dat', 'Collated_Odrzywolek_2010_s15_nuebar_data_AdiabaticMSW_NMO_91_theia_events_unsmeared_weighted.dat', 'Collated_Odrzywolek_2010_s15_nuebar_data_AdiabaticMSW_NMO_92_theia_events_smeared_weighted.dat', 'Collated_Odrzywolek_2010_s15_nuebar_data_AdiabaticMSW_NMO_92_theia_events_unsmeared_weighted.dat', 'Collated_Odrzywolek_2010_s15_nuebar_data_AdiabaticMSW_NMO_93_theia_events_smeared_weighted.dat', 'Collated_Odrzywolek_2010_s15_nuebar_data_AdiabaticMSW_NMO_93_theia_events_unsmeared_weighted.dat', 'Collated_Odrzywolek_2010_s15_nuebar_data_AdiabaticMSW_NMO_94_theia_events_smeared_weighted.dat', 'Collated_Odrzywolek_2010_s15_nuebar_data_AdiabaticMSW_NMO_94_theia_events_unsmeared_weighted.dat', 'Collated_Odrzywolek_2010_s15_nuebar_data_AdiabaticMSW_NMO_95_theia_events_smeared_weighted.dat', 'Collated_Odrzywolek_2010_s15_nuebar_data_AdiabaticMSW_NMO_95_theia_events_unsmeared_weighted.dat', 'Collated_Odrzywolek_2010_s15_nuebar_data_AdiabaticMSW_NMO_96_theia_events_smeared_weighted.dat', 'Collated_Odrzywolek_2010_s15_nuebar_data_AdiabaticMSW_NMO_96_theia_events_unsmeared_weighted.dat', 'Collated_Odrzywolek_2010_s15_nuebar_data_AdiabaticMSW_NMO_97_theia_events_smeared_weighted.dat', 'Collated_Odrzywolek_2010_s15_nuebar_data_AdiabaticMSW_NMO_97_theia_events_unsmeared_weighted.dat', 'Collated_Odrzywolek_2010_s15_nuebar_data_AdiabaticMSW_NMO_98_theia_events_smeared_weighted.dat', 'Collated_Odrzywolek_2010_s15_nuebar_data_AdiabaticMSW_NMO_98_theia_events_unsmeared_weighted.dat', 'Collated_Odrzywolek_2010_s15_nuebar_data_AdiabaticMSW_NMO_99_theia_events_smeared_weighted.dat', 'Collated_Odrzywolek_2010_s15_nuebar_data_AdiabaticMSW_NMO_99_theia_events_unsmeared_weighted.dat']\n"
     ]
    }
   ],
   "source": [
    "#Find keys\n",
    "print(list(tables.keys()))"
   ]
  },
  {
   "cell_type": "code",
   "execution_count": 9,
   "metadata": {},
   "outputs": [
    {
     "name": "stdout",
     "output_type": "stream",
     "text": [
      "Energy bins (in MeV):\n",
      "[0.5 1.  1.5 2.  2.5 3.  3.5 4.  4.5 5.  5.5 6. ]\n",
      "Number of ibd events in those energy bins:\n",
      "[  0.           0.           0.          36.33988936  87.18921666\n",
      " 105.08794206  93.64390998  69.82920697  46.68366232  28.57753867\n",
      "  16.44297585   9.08872803]\n",
      "Number of nue_O16 events in those energy bins:\n",
      "[0. 0. 0. 0. 0. 0. 0. 0. 0. 0. 0. 0.]\n",
      "Number of nuebar_O16 events in those energy bins:\n",
      "[0. 0. 0. 0. 0. 0. 0. 0. 0. 0. 0. 0.]\n",
      "Number of nc events in those energy bins:\n",
      "[0. 0. 0. 0. 0. 0. 0. 0. 0. 0. 0. 0.]\n",
      "Number of e events in those energy bins:\n",
      "[ 11.48090472  64.6355114  115.30170385 124.22149088 101.83787037\n",
      "  70.49544132  43.43429721  24.75700199  13.24378076   6.80454626\n",
      "   3.36132804   1.62545381]\n"
     ]
    }
   ],
   "source": [
    "key_S = 'Collated_Odrzywolek_2010_s15_nuebar_data_AdiabaticMSW_NMO_99_wc100kt30prct_events_unsmeared_weighted.dat'\n",
    "print(f\"Energy bins (in MeV):\\n{tables_S[key_S]['data'][0][:12]}\")\n",
    "#print(f\"{tables_S[key_S]['data'][0]}\")\n",
    "\n",
    "for i, channel in enumerate(tables_S[key_S]['header'].split()[1:]):\n",
    "\n",
    "    print(f\"Number of {channel} events in those energy bins:\\n{tables_S[key_S]['data'][i+1][:12]}\")"
   ]
  },
  {
   "cell_type": "code",
   "execution_count": 12,
   "metadata": {},
   "outputs": [
    {
     "name": "stdout",
     "output_type": "stream",
     "text": [
      "[  9.40813766   9.40813766  11.57024204  11.87738953  11.87738953\n",
      "  11.87738953  11.87738953  11.87738953  11.87738953  11.87738953\n",
      "  11.87738953  11.87738953  11.87738953  11.87738953  12.13731391\n",
      "  15.34947766  15.34947766  15.34947766  15.34947766  15.34947766\n",
      "  15.34947766  15.34947766  15.34947766  15.34947766  15.34947766\n",
      "  15.76876619  19.9486206   19.9486206   19.9486206   19.9486206\n",
      "  19.9486206   19.9486206   19.9486206   19.9486206   19.9486206\n",
      "  21.90226943  24.63675272  24.63675272  24.63675272  24.63675272\n",
      "  24.63675272  24.63675272  24.63675272  26.78573104  27.15312078\n",
      "  28.14427775  28.15524545  28.15524545  28.15759363  28.64388482\n",
      "  28.64388482  28.64388482  28.30164778  28.12416267  27.27846006\n",
      "  26.7668808   26.26780404  25.87742598  25.92427256  25.9796917\n",
      "  26.66249027  27.27154994  27.9015259   30.25404611  30.25404611\n",
      "  34.5045198   35.13372762  35.13372762  41.44839474  43.61611629\n",
      "  43.61611629  46.43692243  53.92670834  54.49395625  61.88560172\n",
      "  66.7878506   71.78337108  77.5271521   85.67616958  96.06865632\n",
      " 109.67156304 136.66200119 159.49052227 136.7409334   99.34594667\n",
      "  69.88071653  57.07769099  51.64177342  48.96681445  48.13103025\n",
      "  49.30478945  51.22149643  53.25958674  59.13991143  61.73077337\n",
      "  67.85052683  84.34822414 116.07444648 169.66158052 506.95913776]\n"
     ]
    },
    {
     "data": {
      "image/png": "[encoded data removed]",
      "text/plain": [
       "<Figure size 640x480 with 1 Axes>"
      ]
     },
     "metadata": {},
     "output_type": "display_data"
    },
    {
     "name": "stdout",
     "output_type": "stream",
     "text": [
      "Total IBD Events in Theia: 4310.881111317869\n",
      "Total IBD Events in Super K: 961.6903509037469\n",
      "Total IBD Events in KamLAND: 54.975718029461106\n"
     ]
    }
   ],
   "source": [
    "%matplotlib inline\n",
    "nevents = np.zeros(len(tmid))\n",
    "nevents_S = np.zeros(len(tmid))\n",
    "nevents_K = np.zeros(len(tmid))\n",
    "\n",
    "#Super K\n",
    "for i in range(len(tmid)):\n",
    "    key_S = f\"Collated_{outfile}_{i}_{detector_S}_events_unsmeared_weighted.dat\"\n",
    "    for idx, channel in enumerate(tables_S[key_S]['header'].split()[1:]):\n",
    "        if channel == 'ibd':\n",
    "            for j in range(1,len(tables_S[key_S]['header'].split())):\n",
    "                nevents_S[i] += sum(tables_S[key_S]['data'][j])\n",
    "                break\n",
    "\n",
    "#Theia    \n",
    "for i in range(len(tmid)):\n",
    "    key = f\"Collated_{outfile}_{i}_{detector}_events_unsmeared_weighted.dat\"\n",
    "    for j in range(1,len(tables[key]['header'].split())):\n",
    "        #print(f\"{tables[key]['data'][0]}\")\n",
    "        nevents[i] += sum(tables[key]['data'][j])\n",
    "\n",
    "#KamLAND\n",
    "for i in range(len(tmid)):\n",
    "    key_K = f\"Collated_{outfile}_{i}_{detector_K}_events_unsmeared_weighted.dat\"\n",
    "    for idx, channel in enumerate(tables_K[key_K]['header'].split()[1:]):\n",
    "        if channel == 'ibd':\n",
    "            for j in range(1,len(tables_K[key_K]['header'].split())):\n",
    "                nevents_K[i] += sum(tables_K[key_K]['data'][j])\n",
    "                break\n",
    "\n",
    "tmid_h = tmid.to(u.hour)\n",
    "\n",
    "plt.title('Number of Pre-SN IBD interactions, 15 solar masses, 150 pc')\n",
    "plt.plot(tmid_h, nevents, label = 'Theia 100kt')\n",
    "#plt.plot(tmid_h, nevents_S * 0.225, label = 'Super K 22.5 kt')\n",
    "#plt.plot(tmid_h, nevents_K / 20, label = 'KamLAND 1kt')\n",
    "#plt.yscale(\"log\")\n",
    "plt.legend()\n",
    "plt.xlabel(\"Time to collapse [h]\")\n",
    "plt.ylabel(\"Counts [ms$^{-1}$]\")\n",
    "plt.show()\n",
    "\n",
    "print(\"Total IBD Events in Theia:\", sum(nevents))\n",
    "print(\"Total IBD Events in Super K:\", sum(nevents_S) * 0.225)\n",
    "print(\"Total IBD Events in KamLAND:\", sum((nevents_K)/20))"
   ]
  },
  {
   "cell_type": "markdown",
   "metadata": {},
   "source": [
    "### Graph #2: Time evolution of significance compared to KamLAND and Super-K"
   ]
  },
  {
   "cell_type": "code",
   "execution_count": null,
   "metadata": {},
   "outputs": [],
   "source": [
    "import math\n",
    "significance_t = []\n",
    "significance_s = []\n",
    "significance_k = []\n",
    "\n",
    "b_t = 4.072553\n",
    "b_s =2.4\n",
    "b_k = 0.142\n",
    "s = 0\n",
    "\n",
    "#Find significance\n",
    "for k in nevents:\n",
    "    s += k * 0.12\n",
    "    sig = math.sqrt(2 * (((s + b_t) * math.log(1+(s/b_t)))-s))\n",
    "    significance_t.append(sig)\n",
    "s=0\n",
    "for k in nevents_S:\n",
    "    s += (k * 0.225*0.74)\n",
    "    sig = math.sqrt(2 * (((s + b_s) * math.log(1+(s/b_s)))-s))\n",
    "    significance_s.append(sig)\n",
    "s=0\n",
    "for k in nevents_K:\n",
    "    s += ((k/28) *0.64)\n",
    "    sig = math.sqrt(2 * (((s + b_k) * math.log(1+(s/b_k)))-s))\n",
    "    significance_s.append(sig)\n",
    "s=0"
   ]
  },
  {
   "cell_type": "code",
   "execution_count": null,
   "metadata": {},
   "outputs": [],
   "source": [
    "#Plotting\n",
    "y = [3] * len(significance_t) #For plotting the significance y=3 line\n",
    "\n",
    "plt.plot(tmid_h, significance_t, label = 'Theia 100kt')\n",
    "plt.plot(tmid_h, significance_s, label = 'Super K 22.5 kt')\n",
    "plt.plot(tmid_h, significance_k, label = 'KamLAND 1kt')\n",
    "plt.plot(tmid_h, y, color = 'gray', linestyle = 'dotted'label = '3 sigma significance')\n",
    "plt.legend()\n",
    "plt.title('Evolution of significance in various detectors')\n",
    "plt.xlabel('Time until collapse [h]')\n",
    "plt.ylabel('Significance [σ]')"
   ]
  }
 ],
 "metadata": {
  "kernelspec": {
   "display_name": "josef",
   "language": "python",
   "name": "python3"
  },
  "language_info": {
   "codemirror_mode": {
    "name": "ipython",
    "version": 3
   },
   "file_extension": ".py",
   "mimetype": "text/x-python",
   "name": "python",
   "nbconvert_exporter": "python",
   "pygments_lexer": "ipython3",
   "version": "3.11.4"
  },
  "orig_nbformat": 4
 },
 "nbformat": 4,
 "nbformat_minor": 2
}
