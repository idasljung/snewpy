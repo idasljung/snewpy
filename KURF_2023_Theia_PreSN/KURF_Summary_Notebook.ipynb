{
 "cells": [
  {
   "cell_type": "markdown",
   "metadata": {},
   "source": [
    "## `KURF Summary of Notebooks`"
   ]
  },
  {
   "cell_type": "markdown",
   "metadata": {},
   "source": [
    "*This folder, KURF_2023_Theia_PreSN, contains the work of a research project conducted during the summer of 2023, the aim of which was to determine the sensitivity of proposed neutrino-detector Theia to pre-supernovae neutrinos.*\n",
    "\n",
    "*The project was divided into two main parts, each represented by a sub-folder within this folder:*\n",
    "\n",
    "**PART 1:** Ensuring SNEWPY gave correct results for pre-supernova models by reproducing graphs from research papers (Reproducing_PreSN_Graphs)\n",
    "\n",
    "\n",
    "**PART 2:** Finding Theia's sensitivity to pre-supernova neutrinos and comparing it to other detectors (Theia_PreSN)\n",
    "\n",
    "_____"
   ]
  },
  {
   "cell_type": "markdown",
   "metadata": {},
   "source": [
    "### `Descriptions of graphs contained in each notebook`\n",
    "##### **PART 1:** Reproducing_PreSN_Graphs\n",
    "*PreSN_KamLAND.ipynb*\n",
    "* PreSN luminosity 48 hours before collapse  (Fig. 2 (top) DOI 10.3847/0004-637X/818/1/91)\n",
    "\n",
    "* Average electron-anti neutrino energy (Fig. 2 (middle) DOI 10.3847/0004-637X/818/1/91)\n",
    "\n",
    "* PreSN integrated energy spectrum 48 h before collapse (Fig. 4 (middle) DOI 10.3847/0004-637X/818/1/91)\n",
    "\n",
    "*PreSN_SuperK.ipynb*\n",
    "\n",
    "* Number Pre-SN IBD interactions in the last 10 h before ccsn (Fig. 1 DOI 10.3847/1538-4357/ac7f9c)\n",
    "\n",
    "*test_PreSN_Odrzywolek_2010.ipynb*\n",
    "\n",
    "##### **PART 2:** Theia_PreSN\n",
    "\n",
    "*theia_comparison.ipynb*\n",
    "\n",
    "* Time evolution of expected number of neutrino-interactions 48 hours before collapse for Theia, Super-K and KamLAND\n",
    "\n",
    "* Time evolution of significance 48 hours before collapse for Theia, Super-K and KamLAND\n",
    "\n",
    "*theia_graphs_10hours.ipynb*\n",
    "\n",
    "* Number of IBD interactions in Theia over the last 10 hours before ccsn (Fig. 1 DOI 10.3847/1538-4357/ac7f9c)\n",
    "\n",
    "*theia_graphs_50hours.ipynb*\n",
    "\n",
    "* Evolution of significance level in Theia 50 hours before ccsn (Fig. 7 DOI 10.3847/1538-4357/ac7f9c)\n",
    "\n",
    "* Number of IBD events in Theia as a function of distance 50 hours before ccsn (Fig. 8 DOI 10.3847/1538-4357/ac7f9c)\n",
    "\n",
    "_____"
   ]
  },
  {
   "cell_type": "markdown",
   "metadata": {},
   "source": [
    "### `NOTE:` \n",
    "\n",
    "In order to run these PreSN notebooks (in this current, not up-to-date with the main branch of SNEWPY version), one must make a temporary adjustment to the code:\n",
    "\n",
    "In the (.../snowglobes.py) file, the following former line must be changed to the latter:\n",
    "\n",
    "model_class = getattr(snewpy.models.ccsn, model_type)\n",
    "\n",
    "model_class = getattr(snewpy.models.presn, model_type)"
   ]
  }
 ],
 "metadata": {
  "language_info": {
   "name": "python"
  },
  "orig_nbformat": 4
 },
 "nbformat": 4,
 "nbformat_minor": 2
}
