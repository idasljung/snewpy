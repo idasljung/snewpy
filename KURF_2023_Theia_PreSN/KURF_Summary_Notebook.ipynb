{
 "cells": [
  {
   "cell_type": "markdown",
   "metadata": {},
   "source": [
    "## `KURF Summary of Notebooks`"
   ]
  },
  {
   "cell_type": "markdown",
   "metadata": {},
   "source": [
    "*This folder, KURF_2023_Theia_PreSN, contains the work of a research project conducted during the summer of 2023, the aim of which was to determine the sensitivity of the proposed neutrino-detector Theia.*\n",
    "\n",
    "*The project was divided into two main parts, each represented by a sub-folder within this folder:*\n",
    "\n",
    "**PART 1:** Ensuring SNEWPY gave correct results for pre-supernova models by reproducing graphs\n",
    "\n",
    "\n",
    "**PART 2:** Finding Theia's sensitivity to pre-supernova neutrinos and prepare it to other detectors\n",
    "\n",
    "_____"
   ]
  },
  {
   "cell_type": "markdown",
   "metadata": {},
   "source": [
    "**NOTE:** In order to run these PreSN notebooks (in this current, not up-to-date with the main branch of SNEWPY version), one must make a temporary adjustment to the code:\n",
    "\n",
    "In the (.../snowglobes.py) file, the following former line must be changed to the latter:\n",
    "\n",
    "model_class = getattr(snewpy.models.ccsn, model_type)\n",
    "\n",
    "model_class = getattr(snewpy.models.presn, model_type)"
   ]
  }
 ],
 "metadata": {
  "language_info": {
   "name": "python"
  },
  "orig_nbformat": 4
 },
 "nbformat": 4,
 "nbformat_minor": 2
}
